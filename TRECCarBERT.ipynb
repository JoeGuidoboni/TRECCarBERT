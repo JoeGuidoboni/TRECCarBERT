{
  "nbformat": 4,
  "nbformat_minor": 0,
  "metadata": {
    "colab": {
      "name": "TRECCarBERT",
      "provenance": [],
      "collapsed_sections": []
    },
    "kernelspec": {
      "name": "python3",
      "display_name": "Python 3"
    },
    "widgets": {
      "application/vnd.jupyter.widget-state+json": {
        "1388d3f5809b42d3a6eacbbdfdd9505d": {
          "model_module": "@jupyter-widgets/controls",
          "model_name": "HBoxModel",
          "state": {
            "_view_name": "HBoxView",
            "_dom_classes": [],
            "_model_name": "HBoxModel",
            "_view_module": "@jupyter-widgets/controls",
            "_model_module_version": "1.5.0",
            "_view_count": null,
            "_view_module_version": "1.5.0",
            "box_style": "",
            "layout": "IPY_MODEL_6fba53d0a59f470a952719be2e2eeb39",
            "_model_module": "@jupyter-widgets/controls",
            "children": [
              "IPY_MODEL_8a15989d2be34f538d117c542826e454",
              "IPY_MODEL_19f0e9e3479e40ec8c4a15d59141a61e"
            ]
          }
        },
        "6fba53d0a59f470a952719be2e2eeb39": {
          "model_module": "@jupyter-widgets/base",
          "model_name": "LayoutModel",
          "state": {
            "_view_name": "LayoutView",
            "grid_template_rows": null,
            "right": null,
            "justify_content": null,
            "_view_module": "@jupyter-widgets/base",
            "overflow": null,
            "_model_module_version": "1.2.0",
            "_view_count": null,
            "flex_flow": null,
            "width": null,
            "min_width": null,
            "border": null,
            "align_items": null,
            "bottom": null,
            "_model_module": "@jupyter-widgets/base",
            "top": null,
            "grid_column": null,
            "overflow_y": null,
            "overflow_x": null,
            "grid_auto_flow": null,
            "grid_area": null,
            "grid_template_columns": null,
            "flex": null,
            "_model_name": "LayoutModel",
            "justify_items": null,
            "grid_row": null,
            "max_height": null,
            "align_content": null,
            "visibility": null,
            "align_self": null,
            "height": null,
            "min_height": null,
            "padding": null,
            "grid_auto_rows": null,
            "grid_gap": null,
            "max_width": null,
            "order": null,
            "_view_module_version": "1.2.0",
            "grid_template_areas": null,
            "object_position": null,
            "object_fit": null,
            "grid_auto_columns": null,
            "margin": null,
            "display": null,
            "left": null
          }
        },
        "8a15989d2be34f538d117c542826e454": {
          "model_module": "@jupyter-widgets/controls",
          "model_name": "FloatProgressModel",
          "state": {
            "_view_name": "ProgressView",
            "style": "IPY_MODEL_9229ead5d52b445eb1fb91b52c5a75ba",
            "_dom_classes": [],
            "description": "Downloading: 100%",
            "_model_name": "FloatProgressModel",
            "bar_style": "success",
            "max": 570,
            "_view_module": "@jupyter-widgets/controls",
            "_model_module_version": "1.5.0",
            "value": 570,
            "_view_count": null,
            "_view_module_version": "1.5.0",
            "orientation": "horizontal",
            "min": 0,
            "description_tooltip": null,
            "_model_module": "@jupyter-widgets/controls",
            "layout": "IPY_MODEL_1fa9fe714c1d4329b84c52fd260e97f9"
          }
        },
        "19f0e9e3479e40ec8c4a15d59141a61e": {
          "model_module": "@jupyter-widgets/controls",
          "model_name": "HTMLModel",
          "state": {
            "_view_name": "HTMLView",
            "style": "IPY_MODEL_a33928183e7944a7aa148b2e492cffdd",
            "_dom_classes": [],
            "description": "",
            "_model_name": "HTMLModel",
            "placeholder": "​",
            "_view_module": "@jupyter-widgets/controls",
            "_model_module_version": "1.5.0",
            "value": " 570/570 [00:00&lt;00:00, 1.13kB/s]",
            "_view_count": null,
            "_view_module_version": "1.5.0",
            "description_tooltip": null,
            "_model_module": "@jupyter-widgets/controls",
            "layout": "IPY_MODEL_bbfb94884c204e11aa1f657a2234162a"
          }
        },
        "9229ead5d52b445eb1fb91b52c5a75ba": {
          "model_module": "@jupyter-widgets/controls",
          "model_name": "ProgressStyleModel",
          "state": {
            "_view_name": "StyleView",
            "_model_name": "ProgressStyleModel",
            "description_width": "initial",
            "_view_module": "@jupyter-widgets/base",
            "_model_module_version": "1.5.0",
            "_view_count": null,
            "_view_module_version": "1.2.0",
            "bar_color": null,
            "_model_module": "@jupyter-widgets/controls"
          }
        },
        "1fa9fe714c1d4329b84c52fd260e97f9": {
          "model_module": "@jupyter-widgets/base",
          "model_name": "LayoutModel",
          "state": {
            "_view_name": "LayoutView",
            "grid_template_rows": null,
            "right": null,
            "justify_content": null,
            "_view_module": "@jupyter-widgets/base",
            "overflow": null,
            "_model_module_version": "1.2.0",
            "_view_count": null,
            "flex_flow": null,
            "width": null,
            "min_width": null,
            "border": null,
            "align_items": null,
            "bottom": null,
            "_model_module": "@jupyter-widgets/base",
            "top": null,
            "grid_column": null,
            "overflow_y": null,
            "overflow_x": null,
            "grid_auto_flow": null,
            "grid_area": null,
            "grid_template_columns": null,
            "flex": null,
            "_model_name": "LayoutModel",
            "justify_items": null,
            "grid_row": null,
            "max_height": null,
            "align_content": null,
            "visibility": null,
            "align_self": null,
            "height": null,
            "min_height": null,
            "padding": null,
            "grid_auto_rows": null,
            "grid_gap": null,
            "max_width": null,
            "order": null,
            "_view_module_version": "1.2.0",
            "grid_template_areas": null,
            "object_position": null,
            "object_fit": null,
            "grid_auto_columns": null,
            "margin": null,
            "display": null,
            "left": null
          }
        },
        "a33928183e7944a7aa148b2e492cffdd": {
          "model_module": "@jupyter-widgets/controls",
          "model_name": "DescriptionStyleModel",
          "state": {
            "_view_name": "StyleView",
            "_model_name": "DescriptionStyleModel",
            "description_width": "",
            "_view_module": "@jupyter-widgets/base",
            "_model_module_version": "1.5.0",
            "_view_count": null,
            "_view_module_version": "1.2.0",
            "_model_module": "@jupyter-widgets/controls"
          }
        },
        "bbfb94884c204e11aa1f657a2234162a": {
          "model_module": "@jupyter-widgets/base",
          "model_name": "LayoutModel",
          "state": {
            "_view_name": "LayoutView",
            "grid_template_rows": null,
            "right": null,
            "justify_content": null,
            "_view_module": "@jupyter-widgets/base",
            "overflow": null,
            "_model_module_version": "1.2.0",
            "_view_count": null,
            "flex_flow": null,
            "width": null,
            "min_width": null,
            "border": null,
            "align_items": null,
            "bottom": null,
            "_model_module": "@jupyter-widgets/base",
            "top": null,
            "grid_column": null,
            "overflow_y": null,
            "overflow_x": null,
            "grid_auto_flow": null,
            "grid_area": null,
            "grid_template_columns": null,
            "flex": null,
            "_model_name": "LayoutModel",
            "justify_items": null,
            "grid_row": null,
            "max_height": null,
            "align_content": null,
            "visibility": null,
            "align_self": null,
            "height": null,
            "min_height": null,
            "padding": null,
            "grid_auto_rows": null,
            "grid_gap": null,
            "max_width": null,
            "order": null,
            "_view_module_version": "1.2.0",
            "grid_template_areas": null,
            "object_position": null,
            "object_fit": null,
            "grid_auto_columns": null,
            "margin": null,
            "display": null,
            "left": null
          }
        },
        "f0086334a7334a29b30796473f876adf": {
          "model_module": "@jupyter-widgets/controls",
          "model_name": "HBoxModel",
          "state": {
            "_view_name": "HBoxView",
            "_dom_classes": [],
            "_model_name": "HBoxModel",
            "_view_module": "@jupyter-widgets/controls",
            "_model_module_version": "1.5.0",
            "_view_count": null,
            "_view_module_version": "1.5.0",
            "box_style": "",
            "layout": "IPY_MODEL_e55311a9ef254664a08893067f5f9b0f",
            "_model_module": "@jupyter-widgets/controls",
            "children": [
              "IPY_MODEL_9d7b20a2b7744ea38a644dc45cd6ee5e",
              "IPY_MODEL_9ee656a600d744169000cc628b65218d"
            ]
          }
        },
        "e55311a9ef254664a08893067f5f9b0f": {
          "model_module": "@jupyter-widgets/base",
          "model_name": "LayoutModel",
          "state": {
            "_view_name": "LayoutView",
            "grid_template_rows": null,
            "right": null,
            "justify_content": null,
            "_view_module": "@jupyter-widgets/base",
            "overflow": null,
            "_model_module_version": "1.2.0",
            "_view_count": null,
            "flex_flow": null,
            "width": null,
            "min_width": null,
            "border": null,
            "align_items": null,
            "bottom": null,
            "_model_module": "@jupyter-widgets/base",
            "top": null,
            "grid_column": null,
            "overflow_y": null,
            "overflow_x": null,
            "grid_auto_flow": null,
            "grid_area": null,
            "grid_template_columns": null,
            "flex": null,
            "_model_name": "LayoutModel",
            "justify_items": null,
            "grid_row": null,
            "max_height": null,
            "align_content": null,
            "visibility": null,
            "align_self": null,
            "height": null,
            "min_height": null,
            "padding": null,
            "grid_auto_rows": null,
            "grid_gap": null,
            "max_width": null,
            "order": null,
            "_view_module_version": "1.2.0",
            "grid_template_areas": null,
            "object_position": null,
            "object_fit": null,
            "grid_auto_columns": null,
            "margin": null,
            "display": null,
            "left": null
          }
        },
        "9d7b20a2b7744ea38a644dc45cd6ee5e": {
          "model_module": "@jupyter-widgets/controls",
          "model_name": "FloatProgressModel",
          "state": {
            "_view_name": "ProgressView",
            "style": "IPY_MODEL_f9ec37f14a684da18972bacb2959f9cd",
            "_dom_classes": [],
            "description": "Downloading: 100%",
            "_model_name": "FloatProgressModel",
            "bar_style": "success",
            "max": 440473133,
            "_view_module": "@jupyter-widgets/controls",
            "_model_module_version": "1.5.0",
            "value": 440473133,
            "_view_count": null,
            "_view_module_version": "1.5.0",
            "orientation": "horizontal",
            "min": 0,
            "description_tooltip": null,
            "_model_module": "@jupyter-widgets/controls",
            "layout": "IPY_MODEL_48529bf2d332422e90692586a0a386d7"
          }
        },
        "9ee656a600d744169000cc628b65218d": {
          "model_module": "@jupyter-widgets/controls",
          "model_name": "HTMLModel",
          "state": {
            "_view_name": "HTMLView",
            "style": "IPY_MODEL_3c65b8009a8e499d9c5f5208a1573680",
            "_dom_classes": [],
            "description": "",
            "_model_name": "HTMLModel",
            "placeholder": "​",
            "_view_module": "@jupyter-widgets/controls",
            "_model_module_version": "1.5.0",
            "value": " 440M/440M [00:10&lt;00:00, 41.2MB/s]",
            "_view_count": null,
            "_view_module_version": "1.5.0",
            "description_tooltip": null,
            "_model_module": "@jupyter-widgets/controls",
            "layout": "IPY_MODEL_fddd627a1ddb41858395e72dcf8bff25"
          }
        },
        "f9ec37f14a684da18972bacb2959f9cd": {
          "model_module": "@jupyter-widgets/controls",
          "model_name": "ProgressStyleModel",
          "state": {
            "_view_name": "StyleView",
            "_model_name": "ProgressStyleModel",
            "description_width": "initial",
            "_view_module": "@jupyter-widgets/base",
            "_model_module_version": "1.5.0",
            "_view_count": null,
            "_view_module_version": "1.2.0",
            "bar_color": null,
            "_model_module": "@jupyter-widgets/controls"
          }
        },
        "48529bf2d332422e90692586a0a386d7": {
          "model_module": "@jupyter-widgets/base",
          "model_name": "LayoutModel",
          "state": {
            "_view_name": "LayoutView",
            "grid_template_rows": null,
            "right": null,
            "justify_content": null,
            "_view_module": "@jupyter-widgets/base",
            "overflow": null,
            "_model_module_version": "1.2.0",
            "_view_count": null,
            "flex_flow": null,
            "width": null,
            "min_width": null,
            "border": null,
            "align_items": null,
            "bottom": null,
            "_model_module": "@jupyter-widgets/base",
            "top": null,
            "grid_column": null,
            "overflow_y": null,
            "overflow_x": null,
            "grid_auto_flow": null,
            "grid_area": null,
            "grid_template_columns": null,
            "flex": null,
            "_model_name": "LayoutModel",
            "justify_items": null,
            "grid_row": null,
            "max_height": null,
            "align_content": null,
            "visibility": null,
            "align_self": null,
            "height": null,
            "min_height": null,
            "padding": null,
            "grid_auto_rows": null,
            "grid_gap": null,
            "max_width": null,
            "order": null,
            "_view_module_version": "1.2.0",
            "grid_template_areas": null,
            "object_position": null,
            "object_fit": null,
            "grid_auto_columns": null,
            "margin": null,
            "display": null,
            "left": null
          }
        },
        "3c65b8009a8e499d9c5f5208a1573680": {
          "model_module": "@jupyter-widgets/controls",
          "model_name": "DescriptionStyleModel",
          "state": {
            "_view_name": "StyleView",
            "_model_name": "DescriptionStyleModel",
            "description_width": "",
            "_view_module": "@jupyter-widgets/base",
            "_model_module_version": "1.5.0",
            "_view_count": null,
            "_view_module_version": "1.2.0",
            "_model_module": "@jupyter-widgets/controls"
          }
        },
        "fddd627a1ddb41858395e72dcf8bff25": {
          "model_module": "@jupyter-widgets/base",
          "model_name": "LayoutModel",
          "state": {
            "_view_name": "LayoutView",
            "grid_template_rows": null,
            "right": null,
            "justify_content": null,
            "_view_module": "@jupyter-widgets/base",
            "overflow": null,
            "_model_module_version": "1.2.0",
            "_view_count": null,
            "flex_flow": null,
            "width": null,
            "min_width": null,
            "border": null,
            "align_items": null,
            "bottom": null,
            "_model_module": "@jupyter-widgets/base",
            "top": null,
            "grid_column": null,
            "overflow_y": null,
            "overflow_x": null,
            "grid_auto_flow": null,
            "grid_area": null,
            "grid_template_columns": null,
            "flex": null,
            "_model_name": "LayoutModel",
            "justify_items": null,
            "grid_row": null,
            "max_height": null,
            "align_content": null,
            "visibility": null,
            "align_self": null,
            "height": null,
            "min_height": null,
            "padding": null,
            "grid_auto_rows": null,
            "grid_gap": null,
            "max_width": null,
            "order": null,
            "_view_module_version": "1.2.0",
            "grid_template_areas": null,
            "object_position": null,
            "object_fit": null,
            "grid_auto_columns": null,
            "margin": null,
            "display": null,
            "left": null
          }
        },
        "5e0e5cb037814e1d943b8b0c37d92abe": {
          "model_module": "@jupyter-widgets/controls",
          "model_name": "HBoxModel",
          "state": {
            "_view_name": "HBoxView",
            "_dom_classes": [],
            "_model_name": "HBoxModel",
            "_view_module": "@jupyter-widgets/controls",
            "_model_module_version": "1.5.0",
            "_view_count": null,
            "_view_module_version": "1.5.0",
            "box_style": "",
            "layout": "IPY_MODEL_cd83abf8bb954820838755ccccd8f2f2",
            "_model_module": "@jupyter-widgets/controls",
            "children": [
              "IPY_MODEL_353fa6a07b80426791d601213e40a273",
              "IPY_MODEL_a141b4671e7d48f5973b828c8aa2198c"
            ]
          }
        },
        "cd83abf8bb954820838755ccccd8f2f2": {
          "model_module": "@jupyter-widgets/base",
          "model_name": "LayoutModel",
          "state": {
            "_view_name": "LayoutView",
            "grid_template_rows": null,
            "right": null,
            "justify_content": null,
            "_view_module": "@jupyter-widgets/base",
            "overflow": null,
            "_model_module_version": "1.2.0",
            "_view_count": null,
            "flex_flow": null,
            "width": null,
            "min_width": null,
            "border": null,
            "align_items": null,
            "bottom": null,
            "_model_module": "@jupyter-widgets/base",
            "top": null,
            "grid_column": null,
            "overflow_y": null,
            "overflow_x": null,
            "grid_auto_flow": null,
            "grid_area": null,
            "grid_template_columns": null,
            "flex": null,
            "_model_name": "LayoutModel",
            "justify_items": null,
            "grid_row": null,
            "max_height": null,
            "align_content": null,
            "visibility": null,
            "align_self": null,
            "height": null,
            "min_height": null,
            "padding": null,
            "grid_auto_rows": null,
            "grid_gap": null,
            "max_width": null,
            "order": null,
            "_view_module_version": "1.2.0",
            "grid_template_areas": null,
            "object_position": null,
            "object_fit": null,
            "grid_auto_columns": null,
            "margin": null,
            "display": null,
            "left": null
          }
        },
        "353fa6a07b80426791d601213e40a273": {
          "model_module": "@jupyter-widgets/controls",
          "model_name": "FloatProgressModel",
          "state": {
            "_view_name": "ProgressView",
            "style": "IPY_MODEL_45dde66058154e6d9509ebdca4a00145",
            "_dom_classes": [],
            "description": "Downloading: 100%",
            "_model_name": "FloatProgressModel",
            "bar_style": "success",
            "max": 231508,
            "_view_module": "@jupyter-widgets/controls",
            "_model_module_version": "1.5.0",
            "value": 231508,
            "_view_count": null,
            "_view_module_version": "1.5.0",
            "orientation": "horizontal",
            "min": 0,
            "description_tooltip": null,
            "_model_module": "@jupyter-widgets/controls",
            "layout": "IPY_MODEL_29570cc9bd59437aa41832996975b2a8"
          }
        },
        "a141b4671e7d48f5973b828c8aa2198c": {
          "model_module": "@jupyter-widgets/controls",
          "model_name": "HTMLModel",
          "state": {
            "_view_name": "HTMLView",
            "style": "IPY_MODEL_b82aa35bd6e642f8b3c6853b3371be17",
            "_dom_classes": [],
            "description": "",
            "_model_name": "HTMLModel",
            "placeholder": "​",
            "_view_module": "@jupyter-widgets/controls",
            "_model_module_version": "1.5.0",
            "value": " 232k/232k [00:01&lt;00:00, 150kB/s]",
            "_view_count": null,
            "_view_module_version": "1.5.0",
            "description_tooltip": null,
            "_model_module": "@jupyter-widgets/controls",
            "layout": "IPY_MODEL_b2d48611144444c5b9d8b71dd70a9e32"
          }
        },
        "45dde66058154e6d9509ebdca4a00145": {
          "model_module": "@jupyter-widgets/controls",
          "model_name": "ProgressStyleModel",
          "state": {
            "_view_name": "StyleView",
            "_model_name": "ProgressStyleModel",
            "description_width": "initial",
            "_view_module": "@jupyter-widgets/base",
            "_model_module_version": "1.5.0",
            "_view_count": null,
            "_view_module_version": "1.2.0",
            "bar_color": null,
            "_model_module": "@jupyter-widgets/controls"
          }
        },
        "29570cc9bd59437aa41832996975b2a8": {
          "model_module": "@jupyter-widgets/base",
          "model_name": "LayoutModel",
          "state": {
            "_view_name": "LayoutView",
            "grid_template_rows": null,
            "right": null,
            "justify_content": null,
            "_view_module": "@jupyter-widgets/base",
            "overflow": null,
            "_model_module_version": "1.2.0",
            "_view_count": null,
            "flex_flow": null,
            "width": null,
            "min_width": null,
            "border": null,
            "align_items": null,
            "bottom": null,
            "_model_module": "@jupyter-widgets/base",
            "top": null,
            "grid_column": null,
            "overflow_y": null,
            "overflow_x": null,
            "grid_auto_flow": null,
            "grid_area": null,
            "grid_template_columns": null,
            "flex": null,
            "_model_name": "LayoutModel",
            "justify_items": null,
            "grid_row": null,
            "max_height": null,
            "align_content": null,
            "visibility": null,
            "align_self": null,
            "height": null,
            "min_height": null,
            "padding": null,
            "grid_auto_rows": null,
            "grid_gap": null,
            "max_width": null,
            "order": null,
            "_view_module_version": "1.2.0",
            "grid_template_areas": null,
            "object_position": null,
            "object_fit": null,
            "grid_auto_columns": null,
            "margin": null,
            "display": null,
            "left": null
          }
        },
        "b82aa35bd6e642f8b3c6853b3371be17": {
          "model_module": "@jupyter-widgets/controls",
          "model_name": "DescriptionStyleModel",
          "state": {
            "_view_name": "StyleView",
            "_model_name": "DescriptionStyleModel",
            "description_width": "",
            "_view_module": "@jupyter-widgets/base",
            "_model_module_version": "1.5.0",
            "_view_count": null,
            "_view_module_version": "1.2.0",
            "_model_module": "@jupyter-widgets/controls"
          }
        },
        "b2d48611144444c5b9d8b71dd70a9e32": {
          "model_module": "@jupyter-widgets/base",
          "model_name": "LayoutModel",
          "state": {
            "_view_name": "LayoutView",
            "grid_template_rows": null,
            "right": null,
            "justify_content": null,
            "_view_module": "@jupyter-widgets/base",
            "overflow": null,
            "_model_module_version": "1.2.0",
            "_view_count": null,
            "flex_flow": null,
            "width": null,
            "min_width": null,
            "border": null,
            "align_items": null,
            "bottom": null,
            "_model_module": "@jupyter-widgets/base",
            "top": null,
            "grid_column": null,
            "overflow_y": null,
            "overflow_x": null,
            "grid_auto_flow": null,
            "grid_area": null,
            "grid_template_columns": null,
            "flex": null,
            "_model_name": "LayoutModel",
            "justify_items": null,
            "grid_row": null,
            "max_height": null,
            "align_content": null,
            "visibility": null,
            "align_self": null,
            "height": null,
            "min_height": null,
            "padding": null,
            "grid_auto_rows": null,
            "grid_gap": null,
            "max_width": null,
            "order": null,
            "_view_module_version": "1.2.0",
            "grid_template_areas": null,
            "object_position": null,
            "object_fit": null,
            "grid_auto_columns": null,
            "margin": null,
            "display": null,
            "left": null
          }
        },
        "2948047bf36441b8869b3341cce4c23f": {
          "model_module": "@jupyter-widgets/controls",
          "model_name": "HBoxModel",
          "state": {
            "_view_name": "HBoxView",
            "_dom_classes": [],
            "_model_name": "HBoxModel",
            "_view_module": "@jupyter-widgets/controls",
            "_model_module_version": "1.5.0",
            "_view_count": null,
            "_view_module_version": "1.5.0",
            "box_style": "",
            "layout": "IPY_MODEL_864ffb89d9834f7694f129a98daacb23",
            "_model_module": "@jupyter-widgets/controls",
            "children": [
              "IPY_MODEL_d7e006b1f25b4286921f025ded3df218",
              "IPY_MODEL_bb5bf2c69f7540f0bd9c81e0013e2cf0"
            ]
          }
        },
        "864ffb89d9834f7694f129a98daacb23": {
          "model_module": "@jupyter-widgets/base",
          "model_name": "LayoutModel",
          "state": {
            "_view_name": "LayoutView",
            "grid_template_rows": null,
            "right": null,
            "justify_content": null,
            "_view_module": "@jupyter-widgets/base",
            "overflow": null,
            "_model_module_version": "1.2.0",
            "_view_count": null,
            "flex_flow": null,
            "width": null,
            "min_width": null,
            "border": null,
            "align_items": null,
            "bottom": null,
            "_model_module": "@jupyter-widgets/base",
            "top": null,
            "grid_column": null,
            "overflow_y": null,
            "overflow_x": null,
            "grid_auto_flow": null,
            "grid_area": null,
            "grid_template_columns": null,
            "flex": null,
            "_model_name": "LayoutModel",
            "justify_items": null,
            "grid_row": null,
            "max_height": null,
            "align_content": null,
            "visibility": null,
            "align_self": null,
            "height": null,
            "min_height": null,
            "padding": null,
            "grid_auto_rows": null,
            "grid_gap": null,
            "max_width": null,
            "order": null,
            "_view_module_version": "1.2.0",
            "grid_template_areas": null,
            "object_position": null,
            "object_fit": null,
            "grid_auto_columns": null,
            "margin": null,
            "display": null,
            "left": null
          }
        },
        "d7e006b1f25b4286921f025ded3df218": {
          "model_module": "@jupyter-widgets/controls",
          "model_name": "FloatProgressModel",
          "state": {
            "_view_name": "ProgressView",
            "style": "IPY_MODEL_2f5f67294fcc40209dc2ff0c7c92ced5",
            "_dom_classes": [],
            "description": "Downloading: 100%",
            "_model_name": "FloatProgressModel",
            "bar_style": "success",
            "max": 28,
            "_view_module": "@jupyter-widgets/controls",
            "_model_module_version": "1.5.0",
            "value": 28,
            "_view_count": null,
            "_view_module_version": "1.5.0",
            "orientation": "horizontal",
            "min": 0,
            "description_tooltip": null,
            "_model_module": "@jupyter-widgets/controls",
            "layout": "IPY_MODEL_273bd3dfbddc407e9152c0b018828fd4"
          }
        },
        "bb5bf2c69f7540f0bd9c81e0013e2cf0": {
          "model_module": "@jupyter-widgets/controls",
          "model_name": "HTMLModel",
          "state": {
            "_view_name": "HTMLView",
            "style": "IPY_MODEL_bf1e5676c4d947478cfef13f07e55fb4",
            "_dom_classes": [],
            "description": "",
            "_model_name": "HTMLModel",
            "placeholder": "​",
            "_view_module": "@jupyter-widgets/controls",
            "_model_module_version": "1.5.0",
            "value": " 28.0/28.0 [00:00&lt;00:00, 64.9B/s]",
            "_view_count": null,
            "_view_module_version": "1.5.0",
            "description_tooltip": null,
            "_model_module": "@jupyter-widgets/controls",
            "layout": "IPY_MODEL_446cb9a0b42a462e9e699957e328d32e"
          }
        },
        "2f5f67294fcc40209dc2ff0c7c92ced5": {
          "model_module": "@jupyter-widgets/controls",
          "model_name": "ProgressStyleModel",
          "state": {
            "_view_name": "StyleView",
            "_model_name": "ProgressStyleModel",
            "description_width": "initial",
            "_view_module": "@jupyter-widgets/base",
            "_model_module_version": "1.5.0",
            "_view_count": null,
            "_view_module_version": "1.2.0",
            "bar_color": null,
            "_model_module": "@jupyter-widgets/controls"
          }
        },
        "273bd3dfbddc407e9152c0b018828fd4": {
          "model_module": "@jupyter-widgets/base",
          "model_name": "LayoutModel",
          "state": {
            "_view_name": "LayoutView",
            "grid_template_rows": null,
            "right": null,
            "justify_content": null,
            "_view_module": "@jupyter-widgets/base",
            "overflow": null,
            "_model_module_version": "1.2.0",
            "_view_count": null,
            "flex_flow": null,
            "width": null,
            "min_width": null,
            "border": null,
            "align_items": null,
            "bottom": null,
            "_model_module": "@jupyter-widgets/base",
            "top": null,
            "grid_column": null,
            "overflow_y": null,
            "overflow_x": null,
            "grid_auto_flow": null,
            "grid_area": null,
            "grid_template_columns": null,
            "flex": null,
            "_model_name": "LayoutModel",
            "justify_items": null,
            "grid_row": null,
            "max_height": null,
            "align_content": null,
            "visibility": null,
            "align_self": null,
            "height": null,
            "min_height": null,
            "padding": null,
            "grid_auto_rows": null,
            "grid_gap": null,
            "max_width": null,
            "order": null,
            "_view_module_version": "1.2.0",
            "grid_template_areas": null,
            "object_position": null,
            "object_fit": null,
            "grid_auto_columns": null,
            "margin": null,
            "display": null,
            "left": null
          }
        },
        "bf1e5676c4d947478cfef13f07e55fb4": {
          "model_module": "@jupyter-widgets/controls",
          "model_name": "DescriptionStyleModel",
          "state": {
            "_view_name": "StyleView",
            "_model_name": "DescriptionStyleModel",
            "description_width": "",
            "_view_module": "@jupyter-widgets/base",
            "_model_module_version": "1.5.0",
            "_view_count": null,
            "_view_module_version": "1.2.0",
            "_model_module": "@jupyter-widgets/controls"
          }
        },
        "446cb9a0b42a462e9e699957e328d32e": {
          "model_module": "@jupyter-widgets/base",
          "model_name": "LayoutModel",
          "state": {
            "_view_name": "LayoutView",
            "grid_template_rows": null,
            "right": null,
            "justify_content": null,
            "_view_module": "@jupyter-widgets/base",
            "overflow": null,
            "_model_module_version": "1.2.0",
            "_view_count": null,
            "flex_flow": null,
            "width": null,
            "min_width": null,
            "border": null,
            "align_items": null,
            "bottom": null,
            "_model_module": "@jupyter-widgets/base",
            "top": null,
            "grid_column": null,
            "overflow_y": null,
            "overflow_x": null,
            "grid_auto_flow": null,
            "grid_area": null,
            "grid_template_columns": null,
            "flex": null,
            "_model_name": "LayoutModel",
            "justify_items": null,
            "grid_row": null,
            "max_height": null,
            "align_content": null,
            "visibility": null,
            "align_self": null,
            "height": null,
            "min_height": null,
            "padding": null,
            "grid_auto_rows": null,
            "grid_gap": null,
            "max_width": null,
            "order": null,
            "_view_module_version": "1.2.0",
            "grid_template_areas": null,
            "object_position": null,
            "object_fit": null,
            "grid_auto_columns": null,
            "margin": null,
            "display": null,
            "left": null
          }
        },
        "113a8afd2ad9407d80a27e62c00cd823": {
          "model_module": "@jupyter-widgets/controls",
          "model_name": "HBoxModel",
          "state": {
            "_view_name": "HBoxView",
            "_dom_classes": [],
            "_model_name": "HBoxModel",
            "_view_module": "@jupyter-widgets/controls",
            "_model_module_version": "1.5.0",
            "_view_count": null,
            "_view_module_version": "1.5.0",
            "box_style": "",
            "layout": "IPY_MODEL_fa5ad90ca26a4e2db1a969431461aa9d",
            "_model_module": "@jupyter-widgets/controls",
            "children": [
              "IPY_MODEL_c9ab60f270664cea800d1fa2782eb7c2",
              "IPY_MODEL_c15c01105e75495abb65e7f759fd99c1"
            ]
          }
        },
        "fa5ad90ca26a4e2db1a969431461aa9d": {
          "model_module": "@jupyter-widgets/base",
          "model_name": "LayoutModel",
          "state": {
            "_view_name": "LayoutView",
            "grid_template_rows": null,
            "right": null,
            "justify_content": null,
            "_view_module": "@jupyter-widgets/base",
            "overflow": null,
            "_model_module_version": "1.2.0",
            "_view_count": null,
            "flex_flow": null,
            "width": null,
            "min_width": null,
            "border": null,
            "align_items": null,
            "bottom": null,
            "_model_module": "@jupyter-widgets/base",
            "top": null,
            "grid_column": null,
            "overflow_y": null,
            "overflow_x": null,
            "grid_auto_flow": null,
            "grid_area": null,
            "grid_template_columns": null,
            "flex": null,
            "_model_name": "LayoutModel",
            "justify_items": null,
            "grid_row": null,
            "max_height": null,
            "align_content": null,
            "visibility": null,
            "align_self": null,
            "height": null,
            "min_height": null,
            "padding": null,
            "grid_auto_rows": null,
            "grid_gap": null,
            "max_width": null,
            "order": null,
            "_view_module_version": "1.2.0",
            "grid_template_areas": null,
            "object_position": null,
            "object_fit": null,
            "grid_auto_columns": null,
            "margin": null,
            "display": null,
            "left": null
          }
        },
        "c9ab60f270664cea800d1fa2782eb7c2": {
          "model_module": "@jupyter-widgets/controls",
          "model_name": "FloatProgressModel",
          "state": {
            "_view_name": "ProgressView",
            "style": "IPY_MODEL_3f879a4a620641e3a2873da1f442a693",
            "_dom_classes": [],
            "description": "Downloading: 100%",
            "_model_name": "FloatProgressModel",
            "bar_style": "success",
            "max": 466062,
            "_view_module": "@jupyter-widgets/controls",
            "_model_module_version": "1.5.0",
            "value": 466062,
            "_view_count": null,
            "_view_module_version": "1.5.0",
            "orientation": "horizontal",
            "min": 0,
            "description_tooltip": null,
            "_model_module": "@jupyter-widgets/controls",
            "layout": "IPY_MODEL_6d5b1e7dc18b412b8d9783bde3f4f370"
          }
        },
        "c15c01105e75495abb65e7f759fd99c1": {
          "model_module": "@jupyter-widgets/controls",
          "model_name": "HTMLModel",
          "state": {
            "_view_name": "HTMLView",
            "style": "IPY_MODEL_fa684978f80c4068b697195954d97128",
            "_dom_classes": [],
            "description": "",
            "_model_name": "HTMLModel",
            "placeholder": "​",
            "_view_module": "@jupyter-widgets/controls",
            "_model_module_version": "1.5.0",
            "value": " 466k/466k [00:00&lt;00:00, 1.31MB/s]",
            "_view_count": null,
            "_view_module_version": "1.5.0",
            "description_tooltip": null,
            "_model_module": "@jupyter-widgets/controls",
            "layout": "IPY_MODEL_f9c087b75a894d6aba61d735194b2d47"
          }
        },
        "3f879a4a620641e3a2873da1f442a693": {
          "model_module": "@jupyter-widgets/controls",
          "model_name": "ProgressStyleModel",
          "state": {
            "_view_name": "StyleView",
            "_model_name": "ProgressStyleModel",
            "description_width": "initial",
            "_view_module": "@jupyter-widgets/base",
            "_model_module_version": "1.5.0",
            "_view_count": null,
            "_view_module_version": "1.2.0",
            "bar_color": null,
            "_model_module": "@jupyter-widgets/controls"
          }
        },
        "6d5b1e7dc18b412b8d9783bde3f4f370": {
          "model_module": "@jupyter-widgets/base",
          "model_name": "LayoutModel",
          "state": {
            "_view_name": "LayoutView",
            "grid_template_rows": null,
            "right": null,
            "justify_content": null,
            "_view_module": "@jupyter-widgets/base",
            "overflow": null,
            "_model_module_version": "1.2.0",
            "_view_count": null,
            "flex_flow": null,
            "width": null,
            "min_width": null,
            "border": null,
            "align_items": null,
            "bottom": null,
            "_model_module": "@jupyter-widgets/base",
            "top": null,
            "grid_column": null,
            "overflow_y": null,
            "overflow_x": null,
            "grid_auto_flow": null,
            "grid_area": null,
            "grid_template_columns": null,
            "flex": null,
            "_model_name": "LayoutModel",
            "justify_items": null,
            "grid_row": null,
            "max_height": null,
            "align_content": null,
            "visibility": null,
            "align_self": null,
            "height": null,
            "min_height": null,
            "padding": null,
            "grid_auto_rows": null,
            "grid_gap": null,
            "max_width": null,
            "order": null,
            "_view_module_version": "1.2.0",
            "grid_template_areas": null,
            "object_position": null,
            "object_fit": null,
            "grid_auto_columns": null,
            "margin": null,
            "display": null,
            "left": null
          }
        },
        "fa684978f80c4068b697195954d97128": {
          "model_module": "@jupyter-widgets/controls",
          "model_name": "DescriptionStyleModel",
          "state": {
            "_view_name": "StyleView",
            "_model_name": "DescriptionStyleModel",
            "description_width": "",
            "_view_module": "@jupyter-widgets/base",
            "_model_module_version": "1.5.0",
            "_view_count": null,
            "_view_module_version": "1.2.0",
            "_model_module": "@jupyter-widgets/controls"
          }
        },
        "f9c087b75a894d6aba61d735194b2d47": {
          "model_module": "@jupyter-widgets/base",
          "model_name": "LayoutModel",
          "state": {
            "_view_name": "LayoutView",
            "grid_template_rows": null,
            "right": null,
            "justify_content": null,
            "_view_module": "@jupyter-widgets/base",
            "overflow": null,
            "_model_module_version": "1.2.0",
            "_view_count": null,
            "flex_flow": null,
            "width": null,
            "min_width": null,
            "border": null,
            "align_items": null,
            "bottom": null,
            "_model_module": "@jupyter-widgets/base",
            "top": null,
            "grid_column": null,
            "overflow_y": null,
            "overflow_x": null,
            "grid_auto_flow": null,
            "grid_area": null,
            "grid_template_columns": null,
            "flex": null,
            "_model_name": "LayoutModel",
            "justify_items": null,
            "grid_row": null,
            "max_height": null,
            "align_content": null,
            "visibility": null,
            "align_self": null,
            "height": null,
            "min_height": null,
            "padding": null,
            "grid_auto_rows": null,
            "grid_gap": null,
            "max_width": null,
            "order": null,
            "_view_module_version": "1.2.0",
            "grid_template_areas": null,
            "object_position": null,
            "object_fit": null,
            "grid_auto_columns": null,
            "margin": null,
            "display": null,
            "left": null
          }
        }
      }
    }
  },
  "cells": [
    {
      "cell_type": "code",
      "metadata": {
        "colab": {
          "base_uri": "https://localhost:8080/",
          "height": 962,
          "referenced_widgets": [
            "1388d3f5809b42d3a6eacbbdfdd9505d",
            "6fba53d0a59f470a952719be2e2eeb39",
            "8a15989d2be34f538d117c542826e454",
            "19f0e9e3479e40ec8c4a15d59141a61e",
            "9229ead5d52b445eb1fb91b52c5a75ba",
            "1fa9fe714c1d4329b84c52fd260e97f9",
            "a33928183e7944a7aa148b2e492cffdd",
            "bbfb94884c204e11aa1f657a2234162a",
            "f0086334a7334a29b30796473f876adf",
            "e55311a9ef254664a08893067f5f9b0f",
            "9d7b20a2b7744ea38a644dc45cd6ee5e",
            "9ee656a600d744169000cc628b65218d",
            "f9ec37f14a684da18972bacb2959f9cd",
            "48529bf2d332422e90692586a0a386d7",
            "3c65b8009a8e499d9c5f5208a1573680",
            "fddd627a1ddb41858395e72dcf8bff25",
            "5e0e5cb037814e1d943b8b0c37d92abe",
            "cd83abf8bb954820838755ccccd8f2f2",
            "353fa6a07b80426791d601213e40a273",
            "a141b4671e7d48f5973b828c8aa2198c",
            "45dde66058154e6d9509ebdca4a00145",
            "29570cc9bd59437aa41832996975b2a8",
            "b82aa35bd6e642f8b3c6853b3371be17",
            "b2d48611144444c5b9d8b71dd70a9e32",
            "2948047bf36441b8869b3341cce4c23f",
            "864ffb89d9834f7694f129a98daacb23",
            "d7e006b1f25b4286921f025ded3df218",
            "bb5bf2c69f7540f0bd9c81e0013e2cf0",
            "2f5f67294fcc40209dc2ff0c7c92ced5",
            "273bd3dfbddc407e9152c0b018828fd4",
            "bf1e5676c4d947478cfef13f07e55fb4",
            "446cb9a0b42a462e9e699957e328d32e",
            "113a8afd2ad9407d80a27e62c00cd823",
            "fa5ad90ca26a4e2db1a969431461aa9d",
            "c9ab60f270664cea800d1fa2782eb7c2",
            "c15c01105e75495abb65e7f759fd99c1",
            "3f879a4a620641e3a2873da1f442a693",
            "6d5b1e7dc18b412b8d9783bde3f4f370",
            "fa684978f80c4068b697195954d97128",
            "f9c087b75a894d6aba61d735194b2d47"
          ]
        },
        "id": "TWjMns9D_k9V",
        "outputId": "608d9337-a5e4-421e-e709-aa022d6508ef"
      },
      "source": [
        "! pip install trec-car-tools transformers\n",
        "import torch\n",
        "from torch.nn import functional, CosineEmbeddingLoss, BCEWithLogitsLoss, CosineSimilarity, BCELoss\n",
        "from torch.utils.data.dataset import Dataset\n",
        "from trec_car import read_data\n",
        "from cbor import *\n",
        "from transformers import BertModel, BertTokenizer, BertForNextSentencePrediction, Trainer, TrainingArguments\n",
        "import random\n",
        "model = BertModel.from_pretrained('bert-base-uncased')\n",
        "nspmodel = BertForNextSentencePrediction.from_pretrained('bert-base-uncased') #output_hidden_states=True\n",
        "tokenizer = BertTokenizer.from_pretrained('bert-base-uncased')\n",
        "file = 'train.pages.cbor'"
      ],
      "execution_count": null,
      "outputs": [
        {
          "output_type": "stream",
          "text": [
            "Collecting trec-car-tools\n",
            "  Downloading https://files.pythonhosted.org/packages/d1/e2/da4e895e5ad519f9f6aa464530dd482c7132c92a55cf178b8132e84b5c1d/trec_car_tools-2.5.4-py3-none-any.whl\n",
            "Collecting transformers\n",
            "\u001b[?25l  Downloading https://files.pythonhosted.org/packages/d8/b2/57495b5309f09fa501866e225c84532d1fd89536ea62406b2181933fb418/transformers-4.5.1-py3-none-any.whl (2.1MB)\n",
            "\u001b[K     |████████████████████████████████| 2.1MB 7.4MB/s \n",
            "\u001b[?25hRequirement already satisfied: numpy>=1.11.2 in /usr/local/lib/python3.7/dist-packages (from trec-car-tools) (1.19.5)\n",
            "Collecting cbor>=1.0.0\n",
            "  Downloading https://files.pythonhosted.org/packages/9b/99/01c6a987c920500189eb74a291bd3a388e6c7cf85736bb6b066d9833315e/cbor-1.0.0.tar.gz\n",
            "Requirement already satisfied: filelock in /usr/local/lib/python3.7/dist-packages (from transformers) (3.0.12)\n",
            "Requirement already satisfied: requests in /usr/local/lib/python3.7/dist-packages (from transformers) (2.23.0)\n",
            "Collecting sacremoses\n",
            "\u001b[?25l  Downloading https://files.pythonhosted.org/packages/75/ee/67241dc87f266093c533a2d4d3d69438e57d7a90abb216fa076e7d475d4a/sacremoses-0.0.45-py3-none-any.whl (895kB)\n",
            "\u001b[K     |████████████████████████████████| 901kB 39.6MB/s \n",
            "\u001b[?25hRequirement already satisfied: tqdm>=4.27 in /usr/local/lib/python3.7/dist-packages (from transformers) (4.41.1)\n",
            "Requirement already satisfied: packaging in /usr/local/lib/python3.7/dist-packages (from transformers) (20.9)\n",
            "Collecting tokenizers<0.11,>=0.10.1\n",
            "\u001b[?25l  Downloading https://files.pythonhosted.org/packages/ae/04/5b870f26a858552025a62f1649c20d29d2672c02ff3c3fb4c688ca46467a/tokenizers-0.10.2-cp37-cp37m-manylinux2010_x86_64.whl (3.3MB)\n",
            "\u001b[K     |████████████████████████████████| 3.3MB 41.6MB/s \n",
            "\u001b[?25hRequirement already satisfied: regex!=2019.12.17 in /usr/local/lib/python3.7/dist-packages (from transformers) (2019.12.20)\n",
            "Requirement already satisfied: importlib-metadata; python_version < \"3.8\" in /usr/local/lib/python3.7/dist-packages (from transformers) (3.10.1)\n",
            "Requirement already satisfied: urllib3!=1.25.0,!=1.25.1,<1.26,>=1.21.1 in /usr/local/lib/python3.7/dist-packages (from requests->transformers) (1.24.3)\n",
            "Requirement already satisfied: certifi>=2017.4.17 in /usr/local/lib/python3.7/dist-packages (from requests->transformers) (2020.12.5)\n",
            "Requirement already satisfied: chardet<4,>=3.0.2 in /usr/local/lib/python3.7/dist-packages (from requests->transformers) (3.0.4)\n",
            "Requirement already satisfied: idna<3,>=2.5 in /usr/local/lib/python3.7/dist-packages (from requests->transformers) (2.10)\n",
            "Requirement already satisfied: click in /usr/local/lib/python3.7/dist-packages (from sacremoses->transformers) (7.1.2)\n",
            "Requirement already satisfied: six in /usr/local/lib/python3.7/dist-packages (from sacremoses->transformers) (1.15.0)\n",
            "Requirement already satisfied: joblib in /usr/local/lib/python3.7/dist-packages (from sacremoses->transformers) (1.0.1)\n",
            "Requirement already satisfied: pyparsing>=2.0.2 in /usr/local/lib/python3.7/dist-packages (from packaging->transformers) (2.4.7)\n",
            "Requirement already satisfied: zipp>=0.5 in /usr/local/lib/python3.7/dist-packages (from importlib-metadata; python_version < \"3.8\"->transformers) (3.4.1)\n",
            "Requirement already satisfied: typing-extensions>=3.6.4; python_version < \"3.8\" in /usr/local/lib/python3.7/dist-packages (from importlib-metadata; python_version < \"3.8\"->transformers) (3.7.4.3)\n",
            "Building wheels for collected packages: cbor\n",
            "  Building wheel for cbor (setup.py) ... \u001b[?25l\u001b[?25hdone\n",
            "  Created wheel for cbor: filename=cbor-1.0.0-cp37-cp37m-linux_x86_64.whl size=51269 sha256=602c0b9e270b2bf8aeb43fd0ad51a99673a3e852942ce1b78fa4cc7595d94962\n",
            "  Stored in directory: /root/.cache/pip/wheels/40/5c/a5/e6d629446a6a687ba328c55f1589234c29b99ef35b1a65dbaa\n",
            "Successfully built cbor\n",
            "Installing collected packages: cbor, trec-car-tools, sacremoses, tokenizers, transformers\n",
            "Successfully installed cbor-1.0.0 sacremoses-0.0.45 tokenizers-0.10.2 transformers-4.5.1 trec-car-tools-2.5.4\n"
          ],
          "name": "stdout"
        },
        {
          "output_type": "display_data",
          "data": {
            "application/vnd.jupyter.widget-view+json": {
              "model_id": "1388d3f5809b42d3a6eacbbdfdd9505d",
              "version_minor": 0,
              "version_major": 2
            },
            "text/plain": [
              "HBox(children=(FloatProgress(value=0.0, description='Downloading', max=570.0, style=ProgressStyle(description_…"
            ]
          },
          "metadata": {
            "tags": []
          }
        },
        {
          "output_type": "stream",
          "text": [
            "\n"
          ],
          "name": "stdout"
        },
        {
          "output_type": "display_data",
          "data": {
            "application/vnd.jupyter.widget-view+json": {
              "model_id": "f0086334a7334a29b30796473f876adf",
              "version_minor": 0,
              "version_major": 2
            },
            "text/plain": [
              "HBox(children=(FloatProgress(value=0.0, description='Downloading', max=440473133.0, style=ProgressStyle(descri…"
            ]
          },
          "metadata": {
            "tags": []
          }
        },
        {
          "output_type": "stream",
          "text": [
            "\n"
          ],
          "name": "stdout"
        },
        {
          "output_type": "stream",
          "text": [
            "Some weights of the model checkpoint at bert-base-uncased were not used when initializing BertForNextSentencePrediction: ['cls.predictions.bias', 'cls.predictions.transform.dense.weight', 'cls.predictions.transform.dense.bias', 'cls.predictions.decoder.weight', 'cls.predictions.transform.LayerNorm.weight', 'cls.predictions.transform.LayerNorm.bias']\n",
            "- This IS expected if you are initializing BertForNextSentencePrediction from the checkpoint of a model trained on another task or with another architecture (e.g. initializing a BertForSequenceClassification model from a BertForPreTraining model).\n",
            "- This IS NOT expected if you are initializing BertForNextSentencePrediction from the checkpoint of a model that you expect to be exactly identical (initializing a BertForSequenceClassification model from a BertForSequenceClassification model).\n"
          ],
          "name": "stderr"
        },
        {
          "output_type": "display_data",
          "data": {
            "application/vnd.jupyter.widget-view+json": {
              "model_id": "5e0e5cb037814e1d943b8b0c37d92abe",
              "version_minor": 0,
              "version_major": 2
            },
            "text/plain": [
              "HBox(children=(FloatProgress(value=0.0, description='Downloading', max=231508.0, style=ProgressStyle(descripti…"
            ]
          },
          "metadata": {
            "tags": []
          }
        },
        {
          "output_type": "stream",
          "text": [
            "\n"
          ],
          "name": "stdout"
        },
        {
          "output_type": "display_data",
          "data": {
            "application/vnd.jupyter.widget-view+json": {
              "model_id": "2948047bf36441b8869b3341cce4c23f",
              "version_minor": 0,
              "version_major": 2
            },
            "text/plain": [
              "HBox(children=(FloatProgress(value=0.0, description='Downloading', max=28.0, style=ProgressStyle(description_w…"
            ]
          },
          "metadata": {
            "tags": []
          }
        },
        {
          "output_type": "stream",
          "text": [
            "\n"
          ],
          "name": "stdout"
        },
        {
          "output_type": "display_data",
          "data": {
            "application/vnd.jupyter.widget-view+json": {
              "model_id": "113a8afd2ad9407d80a27e62c00cd823",
              "version_minor": 0,
              "version_major": 2
            },
            "text/plain": [
              "HBox(children=(FloatProgress(value=0.0, description='Downloading', max=466062.0, style=ProgressStyle(descripti…"
            ]
          },
          "metadata": {
            "tags": []
          }
        },
        {
          "output_type": "stream",
          "text": [
            "\n"
          ],
          "name": "stdout"
        }
      ]
    },
    {
      "cell_type": "code",
      "metadata": {
        "id": "lpky9zf79uKq"
      },
      "source": [
        "def generate_wrong_next(corpus):\n",
        "  # helper function\n",
        "  # given an array of paragraphs, generate wrong next paras\n",
        "  # cant do completely random as there is a random chance to pick next para using shuffle()\n",
        "  # which i want to avoid\n",
        "  wrong_next = []\n",
        "  second_sentences = corpus[1:len(corpus)]\n",
        "  for i in range(len(second_sentences)):\n",
        "    temp = second_sentences.copy()\n",
        "    temp.pop(i)\n",
        "    next = random.choice(temp)\n",
        "    wrong_next.append(next)\n",
        "  return wrong_next"
      ],
      "execution_count": null,
      "outputs": []
    },
    {
      "cell_type": "code",
      "metadata": {
        "id": "j4E90YX4BspI",
        "colab": {
          "base_uri": "https://localhost:8080/"
        },
        "outputId": "8c371ced-1c7c-4d93-e776-85ffc2e61188"
      },
      "source": [
        "labels = []\n",
        "first_input_ids = torch.empty(0)\n",
        "second_input_ids = torch.empty(0)\n",
        "pages = read_data.iter_pages(open(file, 'rb'))\n",
        "count = 0\n",
        "pagecount = 0\n",
        "for page in pages:\n",
        "      pagecount += 1\n",
        "      corpus = page.get_text().split('\\n')\n",
        "      count += len(corpus)\n",
        "\n",
        "      first_sentences = corpus[0:len(corpus) - 1]\n",
        "      second_sentences = corpus[1:len(corpus)]\n",
        "      wrong_next_sentences = generate_wrong_next(corpus)\n",
        "\n",
        "      first_encoding = tokenizer(first_sentences, return_tensors='pt', padding='max_length', max_length=256, truncation=True)\n",
        "      second_encoding = tokenizer(second_sentences, return_tensors='pt', padding='max_length', max_length=256, truncation=True)\n",
        "      wrong_encoding = tokenizer(wrong_next_sentences, return_tensors='pt', padding='max_length', max_length=256, truncation=True)\n",
        "\n",
        "      p_labels = [1.] * first_encoding['input_ids'].size()[0]\n",
        "      n_labels = [-1.] * first_encoding['input_ids'].size()[0]\n",
        "      labels += p_labels + n_labels\n",
        "\n",
        "      # good = torch.tensor(first_encoding, second_encoding)\n",
        "      # bad = torch.tensor(first_encoding, wrong_encoding)\n",
        "\n",
        "      p_encodings = torch.cat((first_encoding['input_ids'], first_encoding['input_ids']), 0)\n",
        "      n_encodings = torch.cat((second_encoding['input_ids'], wrong_encoding['input_ids']), 0)\n",
        "\n",
        "\n",
        "      # encoding_cat = torch.cat((p_encoding['input_ids'], n_encoding['input_ids']), 0)\n",
        "      first_input_ids = torch.cat((p_encodings, first_input_ids), 0)\n",
        "      second_input_ids = torch.cat((n_encodings, second_input_ids), 0)\n",
        "\n",
        "print(first_input_ids.size())\n",
        "print(second_input_ids.size())\n",
        "print(len(labels))\n",
        "print(count) # number of paragraphs\n",
        "print(pagecount)"
      ],
      "execution_count": null,
      "outputs": [
        {
          "output_type": "stream",
          "text": [
            "torch.Size([11858, 256])\n",
            "torch.Size([11858, 256])\n",
            "11858\n",
            "6046\n",
            "117\n"
          ],
          "name": "stdout"
        }
      ]
    },
    {
      "cell_type": "code",
      "metadata": {
        "colab": {
          "base_uri": "https://localhost:8080/"
        },
        "id": "wrS2GzSW4zXQ",
        "outputId": "44452dba-a386-456e-9294-2b34fa9702a4"
      },
      "source": [
        "index = 40\n",
        "# print(first_input_ids[index].type(torch.LongTensor))\n",
        "# print(second_input_ids[index])\n",
        "print(labels[index])\n",
        "first_logits = model(first_input_ids[40:42].type(torch.LongTensor))[0]\n",
        "second_logits = model(second_input_ids[40:42].type(torch.LongTensor))[0]\n",
        "\n",
        "first_logits = torch.mean(first_logits, 2)\n",
        "second_logits = torch.mean(second_logits, 2)\n",
        "\n",
        "print(first_logits.size())\n",
        "print(second_logits.size())\n",
        "\n",
        "cos = CosineSimilarity()\n",
        "c1 = cos(first_logits, second_logits)\n",
        "\n",
        "loss = BCEWithLogitsLoss(reduction='none')\n",
        "\n"
      ],
      "execution_count": null,
      "outputs": [
        {
          "output_type": "stream",
          "text": [
            "1.0\n",
            "torch.Size([2, 256])\n",
            "torch.Size([2, 256])\n"
          ],
          "name": "stdout"
        }
      ]
    },
    {
      "cell_type": "code",
      "metadata": {
        "id": "ijJ29cy0Eny4"
      },
      "source": [
        "class BaseBertDataSet(Dataset):\n",
        "  \"\"\"\n",
        "  Generates a dataset of pairs of paragraphs.\n",
        "  [paragraph, following paragraph]\n",
        "\n",
        "  \"\"\"\n",
        "  def __init__(self, file):\n",
        "    self.file = file\n",
        "    self.labels = []\n",
        "    self.first_input_ids = torch.empty(0)\n",
        "    self.second_input_ids = torch.empty(0)\n",
        "\n",
        "    pages = read_data.iter_pages(open(file, 'rb'))\n",
        "    for page in pages:\n",
        "      corpus = page.get_text().split('\\n')\n",
        "\n",
        "      first_sentences = corpus[0:len(corpus) - 1]\n",
        "      second_sentences = corpus[1:len(corpus)]\n",
        "      wrong_next_sentences = generate_wrong_next(corpus)\n",
        "\n",
        "      first_encoding = tokenizer(first_sentences, return_tensors='pt', padding='max_length', max_length=128, truncation=True)\n",
        "      second_encoding = tokenizer(second_sentences, return_tensors='pt', padding='max_length', max_length=128, truncation=True)\n",
        "      wrong_encoding = tokenizer(wrong_next_sentences, return_tensors='pt', padding='max_length', max_length=128, truncation=True)\n",
        "\n",
        "      p_labels = [1.] * first_encoding['input_ids'].size()[0]\n",
        "      n_labels = [-1.] * first_encoding['input_ids'].size()[0]\n",
        "      self.labels += p_labels + n_labels\n",
        "\n",
        "      # good = torch.tensor(first_encoding, second_encoding)\n",
        "      # bad = torch.tensor(first_encoding, wrong_encoding)\n",
        "\n",
        "      p_encodings = torch.cat((first_encoding['input_ids'], first_encoding['input_ids']), 0)\n",
        "      n_encodings = torch.cat((second_encoding['input_ids'], wrong_encoding['input_ids']), 0)\n",
        "\n",
        "\n",
        "      # encoding_cat = torch.cat((p_encoding['input_ids'], n_encoding['input_ids']), 0)\n",
        "      self.first_input_ids = torch.cat((p_encodings, self.first_input_ids), 0)\n",
        "      self.second_input_ids = torch.cat((n_encodings, self.second_input_ids), 0)\n",
        "\n",
        "    \n",
        "  def __len__(self):\n",
        "    return self.first_input_ids.size()[0]\n",
        "\n",
        "  def __getitem__(self, index):\n",
        "    # label as 1 because we want the the cosine to be close to 1 for these following sentences\n",
        "    sample = {'first_input_ids': self.first_input_ids[index].type(torch.LongTensor), 'second_input_ids':  self.second_input_ids[index].type(torch.LongTensor), 'label': self.labels[index]}\n",
        "    return sample\n"
      ],
      "execution_count": null,
      "outputs": []
    },
    {
      "cell_type": "code",
      "metadata": {
        "id": "LGl5Dm_RdC_L"
      },
      "source": [
        "class BertFNSDataSet(Dataset):\n",
        "  \"\"\"\n",
        "  BertForNextSentence\n",
        "  Generates a dataset of pairs of paragraphs.\n",
        "  [paragraph, following paragraph]\n",
        "\n",
        "  \"\"\"\n",
        "  def __init__(self, file):\n",
        "    self.file = file\n",
        "    self.labels = []\n",
        "    self.input_ids = torch.empty(0)\n",
        "\n",
        "    pages = read_data.iter_pages(open(file, 'rb'))\n",
        "    for page in pages:\n",
        "      corpus = page.get_text().split('\\n')\n",
        "\n",
        "      first_sentences = corpus[0:len(corpus) - 1]\n",
        "      second_sentences = corpus[1:len(corpus)]\n",
        "      wrong_next_sentences = generate_wrong_next(corpus)\n",
        "\n",
        "      p_encoding = tokenizer(first_sentences, second_sentences, return_tensors='pt', padding='max_length', max_length=128, truncation=True)\n",
        "      p_labels = [1] * p_encoding['input_ids'].size()[0]\n",
        "      n_encoding = tokenizer(first_sentences, wrong_next_sentences, return_tensors='pt', padding='max_length', max_length=128, truncation=True)\n",
        "      n_labels = [0] * n_encoding['input_ids'].size()[0]\n",
        "      self.labels += p_labels + n_labels\n",
        "      encoding_cat = torch.cat((p_encoding['input_ids'], n_encoding['input_ids']), 0)\n",
        "      self.input_ids = torch.cat((encoding_cat, self.input_ids), 0)\n",
        "\n",
        "    \n",
        "  def __len__(self):\n",
        "    return self.input_ids.size()[0]\n",
        "\n",
        "  def __getitem__(self, index):\n",
        "    sample = {'input_ids': self.input_ids[index].type(torch.LongTensor), 'label': self.labels[index]}\n",
        "    return sample\n"
      ],
      "execution_count": null,
      "outputs": []
    },
    {
      "cell_type": "code",
      "metadata": {
        "id": "2jDPxxNXB_YW"
      },
      "source": [
        "class CosineSimTrainer(Trainer):\n",
        "  def compute_loss(self, model, inputs, return_outputs=False):\n",
        "    labels = inputs.pop('labels')\n",
        "    first_sentences = inputs['first_input_ids']\n",
        "    second_sentences = inputs['second_input_ids']\n",
        "    first_logits = model(first_sentences)[0]\n",
        "    second_logits = model(second_sentences)[0]\n",
        "\n",
        "    # taking the mean of the last layer\n",
        "    first_logits = torch.mean(first_logits, 2) \n",
        "    second_logits = torch.mean(second_logits, 2) \n",
        "    # outputs = torch.cat((first_logits, second_logits), 0)\n",
        "    outputs = {\n",
        "        \"first_logits\": first_logits,\n",
        "        \"second_logits\": second_logits\n",
        "    }\n",
        "    cos = CosineSimilarity()\n",
        "    c = cos(first_logits, second_logits)\n",
        "\n",
        "    lf = BCEWithLogitsLoss()\n",
        "    loss = lf(c, labels)\n",
        "    \n",
        "    # sim = cos(first_logits, second_logits)\n",
        "    return (loss, outputs) if return_outputs else loss\n",
        "\n"
      ],
      "execution_count": null,
      "outputs": []
    },
    {
      "cell_type": "code",
      "metadata": {
        "id": "boPZDPwKPGrz"
      },
      "source": [
        "class CosineEmbTrainer(Trainer):\n",
        "  def compute_loss(self, model, inputs, return_outputs=False):\n",
        "    labels = inputs.pop('labels')\n",
        "    first_sentences = inputs['first_input_ids']\n",
        "    second_sentences = inputs['second_input_ids']\n",
        "    first_logits = model(first_sentences)[0]\n",
        "    second_logits = model(second_sentences)[0]\n",
        "\n",
        "    # taking the mean of the last layer\n",
        "    first_logits = torch.mean(first_logits, 2) \n",
        "    second_logits = torch.mean(second_logits, 2) \n",
        "    # outputs = torch.cat((first_logits, second_logits), 0)\n",
        "    outputs = {\n",
        "        \"first_logits\": first_logits,\n",
        "        \"second_logits\": second_logits\n",
        "    }\n",
        "    cos = CosineEmbeddingLoss()\n",
        "    loss = cos(first_logits, second_logits, labels)\n",
        "    \n",
        "    # sim = cos(first_logits, second_logits)\n",
        "    return (loss, outputs) if return_outputs else loss"
      ],
      "execution_count": null,
      "outputs": []
    },
    {
      "cell_type": "code",
      "metadata": {
        "colab": {
          "base_uri": "https://localhost:8080/"
        },
        "id": "KrNFqGgCoB5W",
        "outputId": "d6052d2f-eb75-461c-8049-22aeb1dfc8fd"
      },
      "source": [
        "ds = BaseBertDataSet(file)\n",
        "ds_len = ds.__len__()\n",
        "print(ds_len)\n",
        "train_len = int(round(0.8 * ds_len))\n",
        "eval_len = int(round(0.2 * ds_len))\n",
        "train_dataset, eval_dataset = torch.utils.data.random_split(ds, [train_len, eval_len])\n",
        "print(train_len)"
      ],
      "execution_count": null,
      "outputs": [
        {
          "output_type": "stream",
          "text": [
            "11858\n",
            "9486\n"
          ],
          "name": "stdout"
        }
      ]
    },
    {
      "cell_type": "code",
      "metadata": {
        "id": "gR9DivE0J9Yq"
      },
      "source": [
        "training_args = TrainingArguments(\n",
        "    output_dir='./drive/MyDrive/thesis_models/bert/cosine_emb_bY1_batch16',          # output directory\n",
        "    num_train_epochs=1,              # total # of training epochs\n",
        "    per_device_train_batch_size=16,  # batch size per device during training\n",
        "    per_device_eval_batch_size=64,   # batch size for evaluation\n",
        "    warmup_steps=500,                # number of warmup steps for learning rate scheduler\n",
        "    weight_decay=0.01,               # strength of weight decay\n",
        "    logging_dir='./logs',            # directory for storing logs\n",
        "    save_strategy='epoch'\n",
        ")\n",
        "\n",
        "\n",
        "\n",
        "trainer = CosineEmbTrainer(\n",
        "    model=model,                         # the instantiated 🤗 Transformers model to be trained\n",
        "    args=training_args,                  # training arguments, defined above\n",
        "    train_dataset = train_dataset,\n",
        "    eval_dataset = eval_dataset\n",
        ")\n"
      ],
      "execution_count": null,
      "outputs": []
    },
    {
      "cell_type": "code",
      "metadata": {
        "id": "SumOs5S6Nr6R"
      },
      "source": [
        "model.from_pretrained('./drive/MyDrive/thesis_models/bert/cosine_emb_bY1_batch16/checkpoint-593')"
      ],
      "execution_count": null,
      "outputs": []
    },
    {
      "cell_type": "code",
      "metadata": {
        "id": "HeJdYzJIc7iL",
        "colab": {
          "base_uri": "https://localhost:8080/",
          "height": 75
        },
        "outputId": "514d4de3-1115-4044-d031-c872e1b0839b"
      },
      "source": [
        "trainer.train()"
      ],
      "execution_count": null,
      "outputs": [
        {
          "output_type": "display_data",
          "data": {
            "text/html": [
              "\n",
              "    <div>\n",
              "        <style>\n",
              "            /* Turns off some styling */\n",
              "            progress {\n",
              "                /* gets rid of default border in Firefox and Opera. */\n",
              "                border: none;\n",
              "                /* Needs to be in here for Safari polyfill so background images work as expected. */\n",
              "                background-size: auto;\n",
              "            }\n",
              "        </style>\n",
              "      \n",
              "      <progress value='365' max='593' style='width:300px; height:20px; vertical-align: middle;'></progress>\n",
              "      [365/593 6:36:36 < 4:09:06, 0.02 it/s, Epoch 0.61/1]\n",
              "    </div>\n",
              "    <table border=\"1\" class=\"dataframe\">\n",
              "  <thead>\n",
              "    <tr style=\"text-align: left;\">\n",
              "      <th>Step</th>\n",
              "      <th>Training Loss</th>\n",
              "    </tr>\n",
              "  </thead>\n",
              "  <tbody>\n",
              "  </tbody>\n",
              "</table><p>"
            ],
            "text/plain": [
              "<IPython.core.display.HTML object>"
            ]
          },
          "metadata": {
            "tags": []
          }
        }
      ]
    },
    {
      "cell_type": "code",
      "metadata": {
        "id": "ecEGFcN5Eiss",
        "colab": {
          "base_uri": "https://localhost:8080/",
          "height": 156
        },
        "outputId": "46812e5e-dc26-46cb-c71c-7a4e850bc0fc"
      },
      "source": [
        "trainer.evaluate()\n",
        "# model.save_pretrained('./drive/MyDrive/thesis_models/bert')\n",
        "# nspmodel.save_pretrained('./drive/MyDrive/thesis_models/bertfnsp')"
      ],
      "execution_count": null,
      "outputs": [
        {
          "output_type": "display_data",
          "data": {
            "text/html": [
              "\n",
              "    <div>\n",
              "        <style>\n",
              "            /* Turns off some styling */\n",
              "            progress {\n",
              "                /* gets rid of default border in Firefox and Opera. */\n",
              "                border: none;\n",
              "                /* Needs to be in here for Safari polyfill so background images work as expected. */\n",
              "                background-size: auto;\n",
              "            }\n",
              "        </style>\n",
              "      \n",
              "      <progress value='44' max='44' style='width:300px; height:20px; vertical-align: middle;'></progress>\n",
              "      [44/44 1:03:20]\n",
              "    </div>\n",
              "    "
            ],
            "text/plain": [
              "<IPython.core.display.HTML object>"
            ]
          },
          "metadata": {
            "tags": []
          }
        },
        {
          "output_type": "execute_result",
          "data": {
            "text/plain": [
              "{'eval_loss': 0.016463909298181534,\n",
              " 'eval_mem_cpu_alloc_delta': 45899776,\n",
              " 'eval_mem_cpu_peaked_delta': 55988224,\n",
              " 'eval_runtime': 3889.5014,\n",
              " 'eval_samples_per_second': 0.714,\n",
              " 'init_mem_cpu_alloc_delta': 0,\n",
              " 'init_mem_cpu_peaked_delta': 0}"
            ]
          },
          "metadata": {
            "tags": []
          },
          "execution_count": 9
        }
      ]
    },
    {
      "cell_type": "code",
      "metadata": {
        "id": "Xv6DBKqrWXZo"
      },
      "source": [
        ""
      ],
      "execution_count": null,
      "outputs": []
    },
    {
      "cell_type": "code",
      "metadata": {
        "id": "fI3QptBdefpa"
      },
      "source": [
        ""
      ],
      "execution_count": null,
      "outputs": []
    }
  ]
}